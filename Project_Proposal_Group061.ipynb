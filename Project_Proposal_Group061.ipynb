{
 "cells": [
  {
   "cell_type": "code",
   "execution_count": 1,
   "id": "4e4ebd34-3cfb-48be-b514-535d8849c8eb",
   "metadata": {},
   "outputs": [
    {
     "ename": "SyntaxError",
     "evalue": "unterminated string literal (detected at line 19) (4029944146.py, line 19)",
     "output_type": "error",
     "traceback": [
      "\u001b[0;36m  Cell \u001b[0;32mIn[1], line 19\u001b[0;36m\u001b[0m\n\u001b[0;31m    RESEARCH QUESTION: What is your research question? Include the specific question you're setting out to answer. This question should be specific, answerable with data, and clear. A general question with specific subquestions is permitted. (1-2 sentences)\u001b[0m\n\u001b[0m                                                                                        ^\u001b[0m\n\u001b[0;31mSyntaxError\u001b[0m\u001b[0;31m:\u001b[0m unterminated string literal (detected at line 19)\n"
     ]
    }
   ],
   "source": [
    "```\n",
    "import os\n",
    "\n",
    "notebook_path = os.getcwd()\n",
    "print(notebook_path)\n",
    "```\n",
    "# COGS108 - Group 061 Project Proposal\n",
    "\n",
    "## NAMES: \n",
    "- Ananya Shaligram\n",
    "- Kaitlyn Straight\n",
    "- Mieko\n",
    "- Tracy\n",
    "- Aahil Keshwani\n",
    "\n",
    "# Research Question \n",
    "## Why does blah blah blah\n",
    "\n",
    "RESEARCH QUESTION: What is your research question? Include the specific question you're setting out to answer. This question should be specific, answerable with data, and clear. A general question with specific subquestions is permitted. (1-2 sentences)\n",
    "\n",
    "# Background and Prior Work\n",
    "\n",
    "BACKGROUND & PRIOR WORK: This section will present the background and context of your topic and question in a few paragraphs. Include a general introduction to your topic and then describe what information you currently know about the topic after doing your initial research. Include references to other projects who have asked similar questions or approached similar problems. Explain what others have learned in their projects.\n",
    "\n",
    "Find some relevant prior work, and reference those sources, summarizing what each did and what they learned. Even if you think you have a totally novel question, find the most similar prior work that you can and discuss how it relates to your project.\n",
    "\n",
    "References can be research publications, but they need not be. Blogs, GitHub repositories, company websites, etc., are all viable references if they are relevant to your project. It must be clear which information comes from which references. (2-3 paragraphs, including at least 2 references)\n",
    "\n",
    "_**-one idea that I saw from another project proposal was \"in-depth study analysis\" and \"in-depth analysis of similar projects\" within the background research section. they found 2 studies and 2 similar projects in kaggle.**_\n",
    "\n",
    "**References**\n",
    "\n",
    "# Hypothesis\n",
    "\n",
    "HYPOTHESIS: What is your main hypothesis/predictions about what the answer to your question is? Briefly explain your thinking. (2-3 sentences)\n",
    "\n",
    "# Data\n",
    "\n",
    "DATA: Here, you are to think about and describe the ideal dataset (or datasets) you you would need to answer this question:\n",
    "\n",
    "What variables would you have/measure?\n",
    "On whom/what would they be measured/collected?\n",
    "Is there a specific time period that's important? If yes, describe what the time period is and why.\n",
    "etc.\n",
    "Note: For the project proposal, you do NOT have to find the actual dataset(s) needed for your project. We want you to consider what dataset you would really want to answer this question perfectly, even if such data do not exist. For the first checkpoint and onward, you will find and work with available data.\n",
    "\n",
    "# Ethics & Privacy\n",
    "\n",
    "ETHICS & PRIVACY: Acknowledge and address any ethics & privacy related issues of your question(s), proposed dataset(s), and/or analyses. Use the information provided in lecture to guide your group discussion and thinking. If you need further guidance, check out Deon's Ethics Checklist. In particular:\n",
    "\n",
    "Are there any biases/privacy/terms of use issues with the data you propsed?\n",
    "Are there potential biases in your dataset(s), in terms of who it composes, and how it was collected, that may be problematic in terms of it allowing for equitable analysis? (For example, does your data exclude particular populations, or is it likely to reflect particular human biases in a way that could be a problem?)\n",
    "How will you set out to detect these specific biases before, during, and after/when communicating your analysis?\n",
    "Are there any other issues related to your topic area, data, and/or analyses that are potentially problematic in terms of data privacy and equitable impact?\n",
    "How will you handle issues you identified?\n",
    "(1-2 paragraphs)\n",
    "\n",
    "# Team Expectations\n",
    "\n",
    "TEAM EXPECTATIONS: Read over the COGS108 Team Policies individually. Then, include your group’s expectations of one another for successful completion of your COGS108 project below. Discuss and agree on what all of your expectations are. Discuss how your team will communicate throughout the quarter and consider how you will communicate respectfully should conflicts arise. By including each member’s name above and by adding their name to the submission, you are indicating that you have read the COGS108 Team Policies, accept your team’s expectations below, and have every intention to fulfill them. These expectations are for your team’s use and benefit — they won’t be graded for their details.\n",
    "\n",
    "# Project Timeline Proposal\n",
    "\n",
    "PROJECT TIMELINE PROPOSAL: Specify your team's specific project timeline. An example timeline has been provided. Changes the dates, times, names, and details to fit your group's plan.\n",
    "\n",
    "| Meeting Date | Meeting Time | Action Items | Discussion Topics|\n",
    "|--------------|--------------|--------------|------------------|\n",
    "| 4/29         | 2-5pm        |Brainstorm project topics, create notebook|Project topic, background information|\n",
    "\n",
    "\n",
    "If you think you will need any special resources or training outside what we have covered in COGS 108 to solve your problem, then your proposal should state these clearly. For example, if you have selected a problem that involves implementing multiple neural networks, please state this so we can make sure you know what you’re doing and so we can point you to resources you will need to implement your project. Note that you are not required to use outside methods.\n",
    "\n",
    "To reemphasize: for the Project Proposal you are not expected to have already done any analyses for the proposed project, but what you submit should be a plan for what you will answer and what data you would ideally have for the project. (Of course, for the final project you will need to actually find the data and do the analyses.)\n",
    "\n",
    "Project Proposal - Style Guidelines\n",
    "The proposal should be written clearly and at a level understandable by a typical undergraduate student.\n",
    "\n",
    "This is a short but detailed proposal meant to give us time to assess and critique your Final Project idea (further described below), in order to give you time to improve upon it throughout the quarter.\n",
    "\n",
    "You will receive feedback on your project proposal, and you are fully expected to make the changes suggested by the Professor, TAs, IAs, and your classmates on this assignment.\n",
    "\n",
    "Remember to proofread your Project Proposal. Do not use overly flowery and/or vague language.\n"
   ]
  },
  {
   "cell_type": "markdown",
   "id": "316cd903-8218-4080-a3ae-5eb7d7352659",
   "metadata": {},
   "source": []
  },
  {
   "cell_type": "code",
   "execution_count": null,
   "id": "3d0e43f2-e660-481c-b3b4-901394999f61",
   "metadata": {},
   "outputs": [],
   "source": []
  }
 ],
 "metadata": {
  "kernelspec": {
   "display_name": "Python 3 (ipykernel)",
   "language": "python",
   "name": "python3"
  },
  "language_info": {
   "codemirror_mode": {
    "name": "ipython",
    "version": 3
   },
   "file_extension": ".py",
   "mimetype": "text/x-python",
   "name": "python",
   "nbconvert_exporter": "python",
   "pygments_lexer": "ipython3",
   "version": "3.11.9"
  }
 },
 "nbformat": 4,
 "nbformat_minor": 5
}
